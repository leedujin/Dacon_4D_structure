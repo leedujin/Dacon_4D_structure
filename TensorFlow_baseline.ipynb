{
  "cells": [
    {
      "cell_type": "markdown",
      "id": "4d66844d",
      "metadata": {
        "id": "4d66844d"
      },
      "source": [
        "## 라이브러리 불러오기"
      ]
    },
    {
      "cell_type": "code",
      "source": [
        "from google.colab import drive\n",
        "drive.mount('/content/drive')"
      ],
      "metadata": {
        "colab": {
          "base_uri": "https://localhost:8080/"
        },
        "id": "_7Y2hp7g8mDS",
        "outputId": "eeb84a15-0861-4c79-fee8-32301190d1d9"
      },
      "id": "_7Y2hp7g8mDS",
      "execution_count": null,
      "outputs": [
        {
          "output_type": "stream",
          "name": "stdout",
          "text": [
            "Mounted at /content/drive\n"
          ]
        }
      ]
    },
    {
      "cell_type": "code",
      "source": [
        "%cd /content/drive/MyDrive/dacon\n",
        "!unzip -qq \"/content/drive/MyDrive/dacon/open.zip\""
      ],
      "metadata": {
        "colab": {
          "base_uri": "https://localhost:8080/"
        },
        "id": "QejhqGqCQ6ox",
        "outputId": "95729e1a-352b-4bc3-93f7-75335c414f37"
      },
      "id": "QejhqGqCQ6ox",
      "execution_count": null,
      "outputs": [
        {
          "output_type": "stream",
          "name": "stdout",
          "text": [
            "/content/drive/MyDrive/dacon\n"
          ]
        }
      ]
    },
    {
      "cell_type": "code",
      "execution_count": null,
      "id": "a76f6969",
      "metadata": {
        "id": "a76f6969"
      },
      "outputs": [],
      "source": [
        "from glob import glob\n",
        "import tensorflow as tf\n",
        "import pandas as pd\n",
        "import random \n",
        "import cv2\n",
        "from os.path import exists\n",
        "from tqdm import tqdm\n",
        "import numpy as np\n",
        "import matplotlib.pyplot as plt\n",
        "from tensorflow.keras import models\n",
        "from tensorflow.keras.layers import *\n",
        "from tensorflow.keras.applications.efficientnet import EfficientNetB0, EfficientNetB3, preprocess_input"
      ]
    },
    {
      "cell_type": "code",
      "execution_count": null,
      "id": "89f2f6f8",
      "metadata": {
        "id": "89f2f6f8"
      },
      "outputs": [],
      "source": [
        "IMG_SIZE = 224 \n",
        "EPOCHS = 10\n",
        "BATCH_SIZE = 32"
      ]
    },
    {
      "cell_type": "markdown",
      "id": "d0e164bc",
      "metadata": {
        "id": "d0e164bc"
      },
      "source": [
        "## 데이터 불러오기\n"
      ]
    },
    {
      "cell_type": "code",
      "execution_count": null,
      "id": "6a6309b9",
      "metadata": {
        "scrolled": false,
        "id": "6a6309b9"
      },
      "outputs": [],
      "source": [
        "df = pd.read_csv('/content/drive/MyDrive/dacon/train.csv')\n",
        "df_test = pd.read_csv('/content/drive/MyDrive/dacon/test.csv')"
      ]
    },
    {
      "cell_type": "code",
      "execution_count": null,
      "id": "f55a77eb",
      "metadata": {
        "id": "f55a77eb"
      },
      "outputs": [],
      "source": [
        "df = df.sample(frac=1)\n",
        "train_len = int(len(df) * 0.8)\n",
        "\n",
        "train = df[:train_len].reset_index(drop=True)\n",
        "val = df[train_len:].reset_index(drop=True)"
      ]
    },
    {
      "cell_type": "code",
      "execution_count": null,
      "id": "c3de7067",
      "metadata": {
        "id": "c3de7067",
        "outputId": "fa5f6a95-d7ec-447f-b911-fc7ad40011f3",
        "colab": {
          "base_uri": "https://localhost:8080/",
          "height": 424
        }
      },
      "outputs": [
        {
          "output_type": "execute_result",
          "data": {
            "text/plain": [
              "                id                 img_path  A  B  C  D  E  F  G  H  I  J\n",
              "0      TRAIN_18293  ./train/TRAIN_18293.jpg  0  1  0  1  1  0  1  1  1  0\n",
              "1      TRAIN_05778  ./train/TRAIN_05778.jpg  0  1  1  1  1  0  0  0  0  0\n",
              "2      TRAIN_13304  ./train/TRAIN_13304.jpg  0  0  1  1  0  1  0  0  1  1\n",
              "3      TRAIN_21574  ./train/TRAIN_21574.jpg  0  1  1  1  0  1  1  1  1  0\n",
              "4      TRAIN_32207  ./train/TRAIN_32207.jpg  0  1  0  1  0  0  1  0  1  1\n",
              "...            ...                      ... .. .. .. .. .. .. .. .. .. ..\n",
              "26390  TRAIN_15651  ./train/TRAIN_15651.jpg  1  1  0  0  1  1  1  0  0  1\n",
              "26391  TRAIN_21946  ./train/TRAIN_21946.jpg  0  1  0  1  1  0  1  1  1  1\n",
              "26392  TRAIN_03212  ./train/TRAIN_03212.jpg  0  0  1  0  0  1  0  0  1  0\n",
              "26393  TRAIN_21663  ./train/TRAIN_21663.jpg  0  1  1  1  0  1  0  1  1  1\n",
              "26394  TRAIN_15429  ./train/TRAIN_15429.jpg  1  1  0  1  0  1  1  0  0  1\n",
              "\n",
              "[26395 rows x 12 columns]"
            ],
            "text/html": [
              "\n",
              "  <div id=\"df-391440d2-72a4-4dc8-b046-b181af6ae062\">\n",
              "    <div class=\"colab-df-container\">\n",
              "      <div>\n",
              "<style scoped>\n",
              "    .dataframe tbody tr th:only-of-type {\n",
              "        vertical-align: middle;\n",
              "    }\n",
              "\n",
              "    .dataframe tbody tr th {\n",
              "        vertical-align: top;\n",
              "    }\n",
              "\n",
              "    .dataframe thead th {\n",
              "        text-align: right;\n",
              "    }\n",
              "</style>\n",
              "<table border=\"1\" class=\"dataframe\">\n",
              "  <thead>\n",
              "    <tr style=\"text-align: right;\">\n",
              "      <th></th>\n",
              "      <th>id</th>\n",
              "      <th>img_path</th>\n",
              "      <th>A</th>\n",
              "      <th>B</th>\n",
              "      <th>C</th>\n",
              "      <th>D</th>\n",
              "      <th>E</th>\n",
              "      <th>F</th>\n",
              "      <th>G</th>\n",
              "      <th>H</th>\n",
              "      <th>I</th>\n",
              "      <th>J</th>\n",
              "    </tr>\n",
              "  </thead>\n",
              "  <tbody>\n",
              "    <tr>\n",
              "      <th>0</th>\n",
              "      <td>TRAIN_18293</td>\n",
              "      <td>./train/TRAIN_18293.jpg</td>\n",
              "      <td>0</td>\n",
              "      <td>1</td>\n",
              "      <td>0</td>\n",
              "      <td>1</td>\n",
              "      <td>1</td>\n",
              "      <td>0</td>\n",
              "      <td>1</td>\n",
              "      <td>1</td>\n",
              "      <td>1</td>\n",
              "      <td>0</td>\n",
              "    </tr>\n",
              "    <tr>\n",
              "      <th>1</th>\n",
              "      <td>TRAIN_05778</td>\n",
              "      <td>./train/TRAIN_05778.jpg</td>\n",
              "      <td>0</td>\n",
              "      <td>1</td>\n",
              "      <td>1</td>\n",
              "      <td>1</td>\n",
              "      <td>1</td>\n",
              "      <td>0</td>\n",
              "      <td>0</td>\n",
              "      <td>0</td>\n",
              "      <td>0</td>\n",
              "      <td>0</td>\n",
              "    </tr>\n",
              "    <tr>\n",
              "      <th>2</th>\n",
              "      <td>TRAIN_13304</td>\n",
              "      <td>./train/TRAIN_13304.jpg</td>\n",
              "      <td>0</td>\n",
              "      <td>0</td>\n",
              "      <td>1</td>\n",
              "      <td>1</td>\n",
              "      <td>0</td>\n",
              "      <td>1</td>\n",
              "      <td>0</td>\n",
              "      <td>0</td>\n",
              "      <td>1</td>\n",
              "      <td>1</td>\n",
              "    </tr>\n",
              "    <tr>\n",
              "      <th>3</th>\n",
              "      <td>TRAIN_21574</td>\n",
              "      <td>./train/TRAIN_21574.jpg</td>\n",
              "      <td>0</td>\n",
              "      <td>1</td>\n",
              "      <td>1</td>\n",
              "      <td>1</td>\n",
              "      <td>0</td>\n",
              "      <td>1</td>\n",
              "      <td>1</td>\n",
              "      <td>1</td>\n",
              "      <td>1</td>\n",
              "      <td>0</td>\n",
              "    </tr>\n",
              "    <tr>\n",
              "      <th>4</th>\n",
              "      <td>TRAIN_32207</td>\n",
              "      <td>./train/TRAIN_32207.jpg</td>\n",
              "      <td>0</td>\n",
              "      <td>1</td>\n",
              "      <td>0</td>\n",
              "      <td>1</td>\n",
              "      <td>0</td>\n",
              "      <td>0</td>\n",
              "      <td>1</td>\n",
              "      <td>0</td>\n",
              "      <td>1</td>\n",
              "      <td>1</td>\n",
              "    </tr>\n",
              "    <tr>\n",
              "      <th>...</th>\n",
              "      <td>...</td>\n",
              "      <td>...</td>\n",
              "      <td>...</td>\n",
              "      <td>...</td>\n",
              "      <td>...</td>\n",
              "      <td>...</td>\n",
              "      <td>...</td>\n",
              "      <td>...</td>\n",
              "      <td>...</td>\n",
              "      <td>...</td>\n",
              "      <td>...</td>\n",
              "      <td>...</td>\n",
              "    </tr>\n",
              "    <tr>\n",
              "      <th>26390</th>\n",
              "      <td>TRAIN_15651</td>\n",
              "      <td>./train/TRAIN_15651.jpg</td>\n",
              "      <td>1</td>\n",
              "      <td>1</td>\n",
              "      <td>0</td>\n",
              "      <td>0</td>\n",
              "      <td>1</td>\n",
              "      <td>1</td>\n",
              "      <td>1</td>\n",
              "      <td>0</td>\n",
              "      <td>0</td>\n",
              "      <td>1</td>\n",
              "    </tr>\n",
              "    <tr>\n",
              "      <th>26391</th>\n",
              "      <td>TRAIN_21946</td>\n",
              "      <td>./train/TRAIN_21946.jpg</td>\n",
              "      <td>0</td>\n",
              "      <td>1</td>\n",
              "      <td>0</td>\n",
              "      <td>1</td>\n",
              "      <td>1</td>\n",
              "      <td>0</td>\n",
              "      <td>1</td>\n",
              "      <td>1</td>\n",
              "      <td>1</td>\n",
              "      <td>1</td>\n",
              "    </tr>\n",
              "    <tr>\n",
              "      <th>26392</th>\n",
              "      <td>TRAIN_03212</td>\n",
              "      <td>./train/TRAIN_03212.jpg</td>\n",
              "      <td>0</td>\n",
              "      <td>0</td>\n",
              "      <td>1</td>\n",
              "      <td>0</td>\n",
              "      <td>0</td>\n",
              "      <td>1</td>\n",
              "      <td>0</td>\n",
              "      <td>0</td>\n",
              "      <td>1</td>\n",
              "      <td>0</td>\n",
              "    </tr>\n",
              "    <tr>\n",
              "      <th>26393</th>\n",
              "      <td>TRAIN_21663</td>\n",
              "      <td>./train/TRAIN_21663.jpg</td>\n",
              "      <td>0</td>\n",
              "      <td>1</td>\n",
              "      <td>1</td>\n",
              "      <td>1</td>\n",
              "      <td>0</td>\n",
              "      <td>1</td>\n",
              "      <td>0</td>\n",
              "      <td>1</td>\n",
              "      <td>1</td>\n",
              "      <td>1</td>\n",
              "    </tr>\n",
              "    <tr>\n",
              "      <th>26394</th>\n",
              "      <td>TRAIN_15429</td>\n",
              "      <td>./train/TRAIN_15429.jpg</td>\n",
              "      <td>1</td>\n",
              "      <td>1</td>\n",
              "      <td>0</td>\n",
              "      <td>1</td>\n",
              "      <td>0</td>\n",
              "      <td>1</td>\n",
              "      <td>1</td>\n",
              "      <td>0</td>\n",
              "      <td>0</td>\n",
              "      <td>1</td>\n",
              "    </tr>\n",
              "  </tbody>\n",
              "</table>\n",
              "<p>26395 rows × 12 columns</p>\n",
              "</div>\n",
              "      <button class=\"colab-df-convert\" onclick=\"convertToInteractive('df-391440d2-72a4-4dc8-b046-b181af6ae062')\"\n",
              "              title=\"Convert this dataframe to an interactive table.\"\n",
              "              style=\"display:none;\">\n",
              "        \n",
              "  <svg xmlns=\"http://www.w3.org/2000/svg\" height=\"24px\"viewBox=\"0 0 24 24\"\n",
              "       width=\"24px\">\n",
              "    <path d=\"M0 0h24v24H0V0z\" fill=\"none\"/>\n",
              "    <path d=\"M18.56 5.44l.94 2.06.94-2.06 2.06-.94-2.06-.94-.94-2.06-.94 2.06-2.06.94zm-11 1L8.5 8.5l.94-2.06 2.06-.94-2.06-.94L8.5 2.5l-.94 2.06-2.06.94zm10 10l.94 2.06.94-2.06 2.06-.94-2.06-.94-.94-2.06-.94 2.06-2.06.94z\"/><path d=\"M17.41 7.96l-1.37-1.37c-.4-.4-.92-.59-1.43-.59-.52 0-1.04.2-1.43.59L10.3 9.45l-7.72 7.72c-.78.78-.78 2.05 0 2.83L4 21.41c.39.39.9.59 1.41.59.51 0 1.02-.2 1.41-.59l7.78-7.78 2.81-2.81c.8-.78.8-2.07 0-2.86zM5.41 20L4 18.59l7.72-7.72 1.47 1.35L5.41 20z\"/>\n",
              "  </svg>\n",
              "      </button>\n",
              "      \n",
              "  <style>\n",
              "    .colab-df-container {\n",
              "      display:flex;\n",
              "      flex-wrap:wrap;\n",
              "      gap: 12px;\n",
              "    }\n",
              "\n",
              "    .colab-df-convert {\n",
              "      background-color: #E8F0FE;\n",
              "      border: none;\n",
              "      border-radius: 50%;\n",
              "      cursor: pointer;\n",
              "      display: none;\n",
              "      fill: #1967D2;\n",
              "      height: 32px;\n",
              "      padding: 0 0 0 0;\n",
              "      width: 32px;\n",
              "    }\n",
              "\n",
              "    .colab-df-convert:hover {\n",
              "      background-color: #E2EBFA;\n",
              "      box-shadow: 0px 1px 2px rgba(60, 64, 67, 0.3), 0px 1px 3px 1px rgba(60, 64, 67, 0.15);\n",
              "      fill: #174EA6;\n",
              "    }\n",
              "\n",
              "    [theme=dark] .colab-df-convert {\n",
              "      background-color: #3B4455;\n",
              "      fill: #D2E3FC;\n",
              "    }\n",
              "\n",
              "    [theme=dark] .colab-df-convert:hover {\n",
              "      background-color: #434B5C;\n",
              "      box-shadow: 0px 1px 3px 1px rgba(0, 0, 0, 0.15);\n",
              "      filter: drop-shadow(0px 1px 2px rgba(0, 0, 0, 0.3));\n",
              "      fill: #FFFFFF;\n",
              "    }\n",
              "  </style>\n",
              "\n",
              "      <script>\n",
              "        const buttonEl =\n",
              "          document.querySelector('#df-391440d2-72a4-4dc8-b046-b181af6ae062 button.colab-df-convert');\n",
              "        buttonEl.style.display =\n",
              "          google.colab.kernel.accessAllowed ? 'block' : 'none';\n",
              "\n",
              "        async function convertToInteractive(key) {\n",
              "          const element = document.querySelector('#df-391440d2-72a4-4dc8-b046-b181af6ae062');\n",
              "          const dataTable =\n",
              "            await google.colab.kernel.invokeFunction('convertToInteractive',\n",
              "                                                     [key], {});\n",
              "          if (!dataTable) return;\n",
              "\n",
              "          const docLinkHtml = 'Like what you see? Visit the ' +\n",
              "            '<a target=\"_blank\" href=https://colab.research.google.com/notebooks/data_table.ipynb>data table notebook</a>'\n",
              "            + ' to learn more about interactive tables.';\n",
              "          element.innerHTML = '';\n",
              "          dataTable['output_type'] = 'display_data';\n",
              "          await google.colab.output.renderOutput(dataTable, element);\n",
              "          const docLink = document.createElement('div');\n",
              "          docLink.innerHTML = docLinkHtml;\n",
              "          element.appendChild(docLink);\n",
              "        }\n",
              "      </script>\n",
              "    </div>\n",
              "  </div>\n",
              "  "
            ]
          },
          "metadata": {},
          "execution_count": 7
        }
      ],
      "source": [
        "train"
      ]
    },
    {
      "cell_type": "code",
      "execution_count": null,
      "id": "798a131a",
      "metadata": {
        "id": "798a131a"
      },
      "outputs": [],
      "source": [
        "# 작업폴더 설정\n",
        "cwd = '/content/drive/MyDrive/dacon/'"
      ]
    },
    {
      "cell_type": "code",
      "execution_count": null,
      "id": "4c97d6e7",
      "metadata": {
        "id": "4c97d6e7"
      },
      "outputs": [],
      "source": [
        "path_train = (cwd+ train['img_path'])\n",
        "path_valid = (cwd+ val['img_path'])\n",
        "path_test  = (cwd+ df_test['img_path'])"
      ]
    },
    {
      "cell_type": "code",
      "source": [
        "path_train"
      ],
      "metadata": {
        "colab": {
          "base_uri": "https://localhost:8080/"
        },
        "id": "_bvOmmCtNK_4",
        "outputId": "48732b72-18f9-48c3-dd52-81c3e4244333"
      },
      "id": "_bvOmmCtNK_4",
      "execution_count": null,
      "outputs": [
        {
          "output_type": "execute_result",
          "data": {
            "text/plain": [
              "0        /content/drive/MyDrive/dacon/./train/TRAIN_120...\n",
              "1        /content/drive/MyDrive/dacon/./train/TRAIN_102...\n",
              "2        /content/drive/MyDrive/dacon/./train/TRAIN_173...\n",
              "3        /content/drive/MyDrive/dacon/./train/TRAIN_125...\n",
              "4        /content/drive/MyDrive/dacon/./train/TRAIN_305...\n",
              "                               ...                        \n",
              "26390    /content/drive/MyDrive/dacon/./train/TRAIN_132...\n",
              "26391    /content/drive/MyDrive/dacon/./train/TRAIN_082...\n",
              "26392    /content/drive/MyDrive/dacon/./train/TRAIN_219...\n",
              "26393    /content/drive/MyDrive/dacon/./train/TRAIN_082...\n",
              "26394    /content/drive/MyDrive/dacon/./train/TRAIN_034...\n",
              "Name: img_path, Length: 26395, dtype: object"
            ]
          },
          "metadata": {},
          "execution_count": 33
        }
      ]
    },
    {
      "cell_type": "markdown",
      "id": "27d06561",
      "metadata": {
        "id": "27d06561"
      },
      "source": [
        "## TFRecord 생성\n"
      ]
    },
    {
      "cell_type": "code",
      "execution_count": null,
      "id": "8a537f65",
      "metadata": {
        "id": "8a537f65"
      },
      "outputs": [],
      "source": [
        "def _bytes_feature(value):\n",
        "    \"\"\"Returns a bytes_list from a string / byte.\"\"\"\n",
        "    if isinstance(value, type(tf.constant(0))):\n",
        "        value = value.numpy() # BytesList won't unpack a string from an EagerTensor.\n",
        "    return tf.train.Feature(bytes_list=tf.train.BytesList(value=[value]))\n",
        "\n",
        "def _float_feature(value):\n",
        "    \"\"\"Returns a float_list from a float / double.\"\"\"\n",
        "    return tf.train.Feature(float_list=tf.train.FloatList(value=[value]))\n",
        "\n",
        "def _int64_feature(value):\n",
        "    \"\"\"Returns an int64_list from a bool / enum / int / uint.\"\"\"\n",
        "    return tf.train.Feature(int64_list=tf.train.Int64List(value=[value]))"
      ]
    },
    {
      "cell_type": "code",
      "execution_count": null,
      "id": "9500a6d3",
      "metadata": {
        "id": "9500a6d3",
        "outputId": "211df85b-e22d-4abc-f7e8-2d89c27b90e3",
        "colab": {
          "base_uri": "https://localhost:8080/"
        }
      },
      "outputs": [
        {
          "output_type": "stream",
          "name": "stderr",
          "text": [
            "26395it [03:03, 143.96it/s]\n"
          ]
        }
      ],
      "source": [
        "## TFRecord writer 생성\n",
        "writer_image = tf.io.TFRecordWriter(cwd+'image_train.tfr')\n",
        "for i_, path_ in tqdm(enumerate(path_train)):\n",
        "\n",
        "    src = cv2.imread(path_)\n",
        "    dst = cv2.cvtColor(src, cv2.COLOR_BGR2RGB)\n",
        "    dst = cv2.resize(dst, (IMG_SIZE, IMG_SIZE), interpolation=cv2.INTER_CUBIC)\n",
        "    bimage = dst.tobytes()\n",
        "    \n",
        "    classes = np.array(train.loc[i_, 'A':'J'], dtype=np.uint8).tobytes()\n",
        "    \n",
        "    example = tf.train.Example(\n",
        "        features=tf.train.Features(\n",
        "            feature={\n",
        "                'image': _bytes_feature(bimage),\n",
        "                'classes': _bytes_feature(classes)\n",
        "            }\n",
        "            )\n",
        "        )\n",
        "    \n",
        "    writer_image.write(example.SerializeToString())\n",
        "    \n",
        "writer_image.close()"
      ]
    },
    {
      "cell_type": "code",
      "execution_count": null,
      "id": "8be86337",
      "metadata": {
        "id": "8be86337",
        "outputId": "759f906d-47c5-4b65-d08d-0cc0c66d3b00",
        "colab": {
          "base_uri": "https://localhost:8080/"
        }
      },
      "outputs": [
        {
          "output_type": "stream",
          "name": "stderr",
          "text": [
            "6599it [00:44, 146.84it/s]\n"
          ]
        }
      ],
      "source": [
        "writer_image_valid = tf.io.TFRecordWriter(cwd + 'image_valid.tfr')\n",
        "for i_, path_ in tqdm(enumerate(path_valid)):\n",
        "\n",
        "    src = cv2.imread(path_)\n",
        "    dst = cv2.cvtColor(src, cv2.COLOR_BGR2RGB)\n",
        "    dst = cv2.resize(dst, (IMG_SIZE, IMG_SIZE), interpolation=cv2.INTER_CUBIC)    \n",
        "    bimage = dst.tobytes()\n",
        "    \n",
        "    classes = np.array(val.loc[i_, 'A':'J'], dtype=np.uint8).tobytes()\n",
        "    \n",
        "    example = tf.train.Example(\n",
        "        features=tf.train.Features(\n",
        "            feature={\n",
        "                'image': _bytes_feature(bimage),\n",
        "                'classes': _bytes_feature(classes)            \n",
        "            }\n",
        "            )\n",
        "        )\n",
        "    \n",
        "    writer_image_valid.write(example.SerializeToString())\n",
        "    \n",
        "writer_image_valid.close()"
      ]
    },
    {
      "cell_type": "code",
      "execution_count": null,
      "id": "9db3bba3",
      "metadata": {
        "id": "9db3bba3",
        "outputId": "1a984387-9952-4a4e-d9fe-f2cbb66de81f",
        "colab": {
          "base_uri": "https://localhost:8080/"
        }
      },
      "outputs": [
        {
          "output_type": "stream",
          "name": "stderr",
          "text": [
            "1460it [00:10, 138.93it/s]\n"
          ]
        }
      ],
      "source": [
        "writer_image_test = tf.io.TFRecordWriter(cwd + 'image_test.tfr')\n",
        "\n",
        "for i_, path_ in tqdm(enumerate(path_test)):\n",
        "\n",
        "    src = cv2.imread(path_)\n",
        "    dst = cv2.cvtColor(src, cv2.COLOR_BGR2RGB)\n",
        "    dst = cv2.resize(dst, (IMG_SIZE, IMG_SIZE), interpolation=cv2.INTER_CUBIC)\n",
        "    \n",
        "    bimage = dst.tobytes()\n",
        "    \n",
        "    example = tf.train.Example(\n",
        "        features=tf.train.Features(\n",
        "            feature={\n",
        "                'image': _bytes_feature(bimage)\n",
        "            }\n",
        "            )\n",
        "        )\n",
        "    \n",
        "    writer_image_test.write(example.SerializeToString())\n",
        "    \n",
        "writer_image_test.close()"
      ]
    },
    {
      "cell_type": "code",
      "execution_count": null,
      "id": "80563716",
      "metadata": {
        "id": "80563716"
      },
      "outputs": [],
      "source": [
        "## tfrecord file을 data로 parsing해주는 function\n",
        "def _parse_function(tfrecord_serialized):\n",
        "    features={'image': tf.io.FixedLenFeature([], tf.string),\n",
        "              'classes': tf.io.FixedLenFeature([], tf.string)\n",
        "             }\n",
        "    parsed_features = tf.io.parse_single_example(tfrecord_serialized, features)\n",
        "    \n",
        "    image = tf.io.decode_raw(parsed_features['image'], tf.uint8)\n",
        "    image = tf.reshape(image, [IMG_SIZE, IMG_SIZE, 3])\n",
        "#     image = tf.cast(image, tf.float32)/255. \n",
        "\n",
        "    classes = tf.io.decode_raw(parsed_features['classes'], tf.uint8)    \n",
        "    classes = tf.squeeze(classes)\n",
        "\n",
        "    return image, classes\n",
        "\n",
        "def _parse_function2(tfrecord_serialized):\n",
        "    features={'image': tf.io.FixedLenFeature([], tf.string)             }\n",
        "    parsed_features = tf.io.parse_single_example(tfrecord_serialized, features)\n",
        "    \n",
        "    image = tf.io.decode_raw(parsed_features['image'], tf.uint8)\n",
        "    image = tf.reshape(image, [IMG_SIZE, IMG_SIZE, 3])\n",
        "#     image = tf.cast(image, tf.float32)/255. \n",
        "\n",
        "    return image"
      ]
    },
    {
      "cell_type": "code",
      "execution_count": null,
      "id": "9ecbf4bf",
      "metadata": {
        "id": "9ecbf4bf"
      },
      "outputs": [],
      "source": [
        "## train dataset 만들기\n",
        "train_dataset = tf.data.TFRecordDataset(cwd + 'image_train.tfr')\n",
        "train_dataset = train_dataset.map(_parse_function, num_parallel_calls=tf.data.experimental.AUTOTUNE)\n",
        "train_dataset = train_dataset.shuffle(2000).prefetch(tf.data.experimental.AUTOTUNE).batch(BATCH_SIZE)"
      ]
    },
    {
      "cell_type": "code",
      "execution_count": null,
      "id": "e8535e60",
      "metadata": {
        "id": "e8535e60"
      },
      "outputs": [],
      "source": [
        "## validation dataset 만들기\n",
        "val_dataset = tf.data.TFRecordDataset(cwd + 'image_valid.tfr')\n",
        "val_dataset = val_dataset.map(_parse_function, num_parallel_calls=tf.data.experimental.AUTOTUNE)\n",
        "val_dataset = val_dataset.prefetch(tf.data.experimental.AUTOTUNE).batch(BATCH_SIZE)"
      ]
    },
    {
      "cell_type": "code",
      "execution_count": null,
      "id": "e9778b1f",
      "metadata": {
        "id": "e9778b1f"
      },
      "outputs": [],
      "source": [
        "## test dataset 만들기\n",
        "test_dataset = tf.data.TFRecordDataset(cwd + 'image_test.tfr')\n",
        "test_dataset = test_dataset.map(_parse_function2, num_parallel_calls=tf.data.experimental.AUTOTUNE)\n",
        "test_dataset = test_dataset.batch(BATCH_SIZE)"
      ]
    },
    {
      "cell_type": "markdown",
      "id": "652de6a7",
      "metadata": {
        "id": "652de6a7"
      },
      "source": [
        "## Models"
      ]
    },
    {
      "cell_type": "code",
      "execution_count": null,
      "id": "05c761f5",
      "metadata": {
        "id": "05c761f5"
      },
      "outputs": [],
      "source": [
        "# callbacks\n",
        "early_stopping = tf.keras.callbacks.EarlyStopping(monitor='val_loss', patience=10, restore_best_weights=True)\n",
        "\n",
        "reduce_lr = tf.keras.callbacks.ReduceLROnPlateau(monitor='val_loss', factor=0.5,\n",
        "                                                 patience=3, min_lr=1e-06)\n"
      ]
    },
    {
      "cell_type": "code",
      "execution_count": null,
      "id": "eb616a08",
      "metadata": {
        "scrolled": true,
        "id": "eb616a08",
        "outputId": "6e3578b2-5e35-402d-e453-323f4b94b1fd",
        "colab": {
          "base_uri": "https://localhost:8080/"
        }
      },
      "outputs": [
        {
          "output_type": "stream",
          "name": "stdout",
          "text": [
            "Model: \"model_1\"\n",
            "_________________________________________________________________\n",
            " Layer (type)                Output Shape              Param #   \n",
            "=================================================================\n",
            " input_3 (InputLayer)        [(None, 224, 224, 3)]     0         \n",
            "                                                                 \n",
            " efficientnetb0 (Functional)  (None, None, None, 1280)  4049571  \n",
            "                                                                 \n",
            " global_average_pooling2d_1   (None, 1280)             0         \n",
            " (GlobalAveragePooling2D)                                        \n",
            "                                                                 \n",
            " dense_3 (Dense)             (None, 1000)              1281000   \n",
            "                                                                 \n",
            " dropout_1 (Dropout)         (None, 1000)              0         \n",
            "                                                                 \n",
            " dense_4 (Dense)             (None, 128)               128128    \n",
            "                                                                 \n",
            " dense_5 (Dense)             (None, 10)                1290      \n",
            "                                                                 \n",
            "=================================================================\n",
            "Total params: 5,459,989\n",
            "Trainable params: 5,417,966\n",
            "Non-trainable params: 42,023\n",
            "_________________________________________________________________\n"
          ]
        }
      ],
      "source": [
        "inputs = Input(shape = (IMG_SIZE, IMG_SIZE, 3))\n",
        "x = EfficientNetB0(weights='imagenet', include_top=False)(inputs, training=True)\n",
        "x = GlobalAveragePooling2D()(x)\n",
        "x = Dense(1000, activation='relu')(x)\n",
        "x = Dropout(0.4, seed=1234)(x)\n",
        "x = Dense(128, activation='relu')(x)\n",
        "output = Dense(10, activation='sigmoid')(x)\n",
        "\n",
        "model = models.Model(inputs, output)\n",
        "model.summary()"
      ]
    },
    {
      "cell_type": "code",
      "execution_count": null,
      "id": "58d5d178",
      "metadata": {
        "id": "58d5d178",
        "outputId": "3d6928c9-bc2b-4e08-b7c3-bd93922dea4c",
        "colab": {
          "base_uri": "https://localhost:8080/"
        }
      },
      "outputs": [
        {
          "output_type": "stream",
          "name": "stdout",
          "text": [
            "Epoch 1/10\n",
            "825/825 [==============================] - 279s 324ms/step - loss: 0.3776 - binary_accuracy: 0.8111 - val_loss: 0.2147 - val_binary_accuracy: 0.9084 - lr: 1.0000e-04\n",
            "Epoch 2/10\n",
            "825/825 [==============================] - 268s 323ms/step - loss: 0.1659 - binary_accuracy: 0.9317 - val_loss: 0.1317 - val_binary_accuracy: 0.9467 - lr: 1.0000e-04\n",
            "Epoch 3/10\n",
            "825/825 [==============================] - 268s 323ms/step - loss: 0.1059 - binary_accuracy: 0.9572 - val_loss: 0.1016 - val_binary_accuracy: 0.9598 - lr: 1.0000e-04\n",
            "Epoch 4/10\n",
            "825/825 [==============================] - 268s 323ms/step - loss: 0.0756 - binary_accuracy: 0.9702 - val_loss: 0.0900 - val_binary_accuracy: 0.9659 - lr: 1.0000e-04\n",
            "Epoch 5/10\n",
            "825/825 [==============================] - 269s 324ms/step - loss: 0.0570 - binary_accuracy: 0.9778 - val_loss: 0.0829 - val_binary_accuracy: 0.9684 - lr: 1.0000e-04\n",
            "Epoch 6/10\n",
            "825/825 [==============================] - 268s 323ms/step - loss: 0.0465 - binary_accuracy: 0.9823 - val_loss: 0.0764 - val_binary_accuracy: 0.9716 - lr: 1.0000e-04\n",
            "Epoch 7/10\n",
            "825/825 [==============================] - 267s 322ms/step - loss: 0.0374 - binary_accuracy: 0.9861 - val_loss: 0.0688 - val_binary_accuracy: 0.9755 - lr: 1.0000e-04\n",
            "Epoch 8/10\n",
            "825/825 [==============================] - 267s 322ms/step - loss: 0.0308 - binary_accuracy: 0.9884 - val_loss: 0.0704 - val_binary_accuracy: 0.9755 - lr: 1.0000e-04\n",
            "Epoch 9/10\n",
            "825/825 [==============================] - 268s 323ms/step - loss: 0.0260 - binary_accuracy: 0.9904 - val_loss: 0.0633 - val_binary_accuracy: 0.9785 - lr: 1.0000e-04\n",
            "Epoch 10/10\n",
            "825/825 [==============================] - 271s 326ms/step - loss: 0.0226 - binary_accuracy: 0.9917 - val_loss: 0.0611 - val_binary_accuracy: 0.9790 - lr: 1.0000e-04\n"
          ]
        }
      ],
      "source": [
        "model.compile(loss=tf.keras.losses.BinaryCrossentropy(from_logits=False),\n",
        "              optimizer=tf.keras.optimizers.Adam(learning_rate=1e-4), \n",
        "              metrics=['binary_accuracy'])  \n",
        "\n",
        "hist  = model.fit(train_dataset,\n",
        "                  validation_data=val_dataset,    \n",
        "                  verbose =1,\n",
        "                  epochs=EPOCHS, \n",
        "                  callbacks=[early_stopping, reduce_lr])\n"
      ]
    },
    {
      "cell_type": "markdown",
      "id": "f11ccf1a",
      "metadata": {
        "id": "f11ccf1a"
      },
      "source": [
        "## Prediction"
      ]
    },
    {
      "cell_type": "code",
      "execution_count": null,
      "id": "84ec00f5",
      "metadata": {
        "id": "84ec00f5",
        "outputId": "d7bf6592-5a85-4b8f-a447-d8ddeb53a63a",
        "colab": {
          "base_uri": "https://localhost:8080/"
        }
      },
      "outputs": [
        {
          "output_type": "stream",
          "name": "stdout",
          "text": [
            "46/46 [==============================] - 11s 116ms/step\n"
          ]
        }
      ],
      "source": [
        "pred_ = model.predict(test_dataset)"
      ]
    },
    {
      "cell_type": "code",
      "execution_count": null,
      "id": "00914ba1",
      "metadata": {
        "id": "00914ba1"
      },
      "outputs": [],
      "source": [
        "df_subm = pd.read_csv('./sample_submission.csv')\n",
        "df_subm.iloc[:, 1:] = ((pred_>0.5) + 0)\n",
        "df_subm.to_csv('./subm.csv', index=False)"
      ]
    }
  ],
  "metadata": {
    "kernelspec": {
      "display_name": "Python 3 (ipykernel)",
      "language": "python",
      "name": "python3"
    },
    "language_info": {
      "codemirror_mode": {
        "name": "ipython",
        "version": 3
      },
      "file_extension": ".py",
      "mimetype": "text/x-python",
      "name": "python",
      "nbconvert_exporter": "python",
      "pygments_lexer": "ipython3",
      "version": "3.9.13"
    },
    "colab": {
      "provenance": []
    },
    "accelerator": "GPU",
    "gpuClass": "standard"
  },
  "nbformat": 4,
  "nbformat_minor": 5
}